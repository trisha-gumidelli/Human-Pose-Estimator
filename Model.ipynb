{
 "cells": [
  {
   "cell_type": "code",
   "execution_count": 5,
   "id": "bfea22a1-8eb7-4fd3-8586-520e9ca68888",
   "metadata": {},
   "outputs": [
    {
     "name": "stdout",
     "output_type": "stream",
     "text": [
      "Collecting keras-tuner\n",
      "  Downloading keras_tuner-1.4.7-py3-none-any.whl.metadata (5.4 kB)\n",
      "Requirement already satisfied: keras in /opt/anaconda3/envs/tf/lib/python3.9/site-packages (from keras-tuner) (3.3.3)\n",
      "Requirement already satisfied: packaging in /opt/anaconda3/envs/tf/lib/python3.9/site-packages (from keras-tuner) (23.2)\n",
      "Requirement already satisfied: requests in /opt/anaconda3/envs/tf/lib/python3.9/site-packages (from keras-tuner) (2.31.0)\n",
      "Collecting kt-legacy (from keras-tuner)\n",
      "  Downloading kt_legacy-1.0.5-py3-none-any.whl.metadata (221 bytes)\n",
      "Requirement already satisfied: absl-py in /opt/anaconda3/envs/tf/lib/python3.9/site-packages (from keras->keras-tuner) (2.1.0)\n",
      "Requirement already satisfied: numpy in /opt/anaconda3/envs/tf/lib/python3.9/site-packages (from keras->keras-tuner) (1.26.4)\n",
      "Requirement already satisfied: rich in /opt/anaconda3/envs/tf/lib/python3.9/site-packages (from keras->keras-tuner) (13.7.1)\n",
      "Requirement already satisfied: namex in /opt/anaconda3/envs/tf/lib/python3.9/site-packages (from keras->keras-tuner) (0.0.8)\n",
      "Requirement already satisfied: h5py in /opt/anaconda3/envs/tf/lib/python3.9/site-packages (from keras->keras-tuner) (3.11.0)\n",
      "Requirement already satisfied: optree in /opt/anaconda3/envs/tf/lib/python3.9/site-packages (from keras->keras-tuner) (0.11.0)\n",
      "Requirement already satisfied: ml-dtypes in /opt/anaconda3/envs/tf/lib/python3.9/site-packages (from keras->keras-tuner) (0.3.2)\n",
      "Requirement already satisfied: charset-normalizer<4,>=2 in /opt/anaconda3/envs/tf/lib/python3.9/site-packages (from requests->keras-tuner) (2.0.4)\n",
      "Requirement already satisfied: idna<4,>=2.5 in /opt/anaconda3/envs/tf/lib/python3.9/site-packages (from requests->keras-tuner) (3.7)\n",
      "Requirement already satisfied: urllib3<3,>=1.21.1 in /opt/anaconda3/envs/tf/lib/python3.9/site-packages (from requests->keras-tuner) (1.26.18)\n",
      "Requirement already satisfied: certifi>=2017.4.17 in /opt/anaconda3/envs/tf/lib/python3.9/site-packages (from requests->keras-tuner) (2024.2.2)\n",
      "Requirement already satisfied: typing-extensions>=4.0.0 in /opt/anaconda3/envs/tf/lib/python3.9/site-packages (from optree->keras->keras-tuner) (4.11.0)\n",
      "Requirement already satisfied: markdown-it-py>=2.2.0 in /opt/anaconda3/envs/tf/lib/python3.9/site-packages (from rich->keras->keras-tuner) (3.0.0)\n",
      "Requirement already satisfied: pygments<3.0.0,>=2.13.0 in /opt/anaconda3/envs/tf/lib/python3.9/site-packages (from rich->keras->keras-tuner) (2.15.1)\n",
      "Requirement already satisfied: mdurl~=0.1 in /opt/anaconda3/envs/tf/lib/python3.9/site-packages (from markdown-it-py>=2.2.0->rich->keras->keras-tuner) (0.1.2)\n",
      "Downloading keras_tuner-1.4.7-py3-none-any.whl (129 kB)\n",
      "\u001b[2K   \u001b[90m━━━━━━━━━━━━━━━━━━━━━━━━━━━━━━━━━━━━━━━━\u001b[0m \u001b[32m129.1/129.1 kB\u001b[0m \u001b[31m1.2 MB/s\u001b[0m eta \u001b[36m0:00:00\u001b[0m \u001b[36m0:00:01\u001b[0m\n",
      "\u001b[?25hDownloading kt_legacy-1.0.5-py3-none-any.whl (9.6 kB)\n",
      "Installing collected packages: kt-legacy, keras-tuner\n",
      "Successfully installed keras-tuner-1.4.7 kt-legacy-1.0.5\n",
      "Note: you may need to restart the kernel to use updated packages.\n"
     ]
    }
   ],
   "source": [
    "pip install keras-tuner\n"
   ]
  },
  {
   "cell_type": "code",
   "execution_count": 1,
   "id": "e8f141b5-0c76-4b8d-9260-cbd00cb71214",
   "metadata": {},
   "outputs": [],
   "source": [
    "import numpy as np\n",
    "import pandas as pd \n",
    "\n",
    "from keras.models import Sequential\n",
    "from keras.layers import Dense\n",
    "from keras.layers import Dropout\n",
    "from keras.optimizers import Adam\n",
    "from tensorflow.keras.utils import to_categorical\n",
    "\n",
    "from keras.callbacks import EarlyStopping\n",
    "import keras_tuner as kt\n",
    "from sklearn.model_selection import train_test_split\n",
    "\n",
    "from sklearn.metrics import confusion_matrix, precision_recall_fscore_support\n",
    "\n",
    "import pickle\n",
    "\n",
    "import warnings\n",
    "warnings.filterwarnings('ignore')"
   ]
  },
  {
   "cell_type": "code",
   "execution_count": 2,
   "id": "b4eda1fa-4dae-444a-9d90-de65f335aba3",
   "metadata": {},
   "outputs": [],
   "source": [
    "def round_up_metric_results(results) -> list:\n",
    "    return list(map(lambda el: round(el, 3), results))"
   ]
  },
  {
   "cell_type": "code",
   "execution_count": 3,
   "id": "35105305-3c9c-4de2-b8d7-1f4069612a4d",
   "metadata": {},
   "outputs": [],
   "source": [
    "df = pd.read_csv(\"train.csv\")\n",
    "\n",
    "\n",
    "df.loc[df[\"label\"] == \"C\", \"label\"] = 0\n",
    "df.loc[df[\"label\"] == \"H\", \"label\"] = 1\n",
    "df.loc[df[\"label\"] == \"L\", \"label\"] = 2\n"
   ]
  },
  {
   "cell_type": "code",
   "execution_count": 5,
   "id": "27f3b68f-a1db-403f-a301-d181c1a5a5ec",
   "metadata": {},
   "outputs": [],
   "source": [
    "with open(\"plank_input_scaler.pkl\", \"rb\") as f2:\n",
    "    sc = pickle.load(f2)\n",
    "\n",
    "x = df.drop(\"label\", axis = 1)\n",
    "x = pd.DataFrame(sc.transform(x))\n",
    "\n",
    "y = df[\"label\"]\n",
    "\n",
    "y_cat = to_categorical(y)"
   ]
  },
  {
   "cell_type": "code",
   "execution_count": 6,
   "id": "be95f971-0103-4d7c-b155-785029dacfb8",
   "metadata": {},
   "outputs": [],
   "source": [
    "x_train, x_test, y_train, y_test = train_test_split(x.values, y_cat, test_size=0.2, random_state=1234)"
   ]
  },
  {
   "cell_type": "code",
   "execution_count": 7,
   "id": "19c8b3c5-beba-45e1-9a11-f5f125c740ff",
   "metadata": {},
   "outputs": [],
   "source": [
    "stop_early = EarlyStopping(monitor='loss', patience=3)\n",
    "\n",
    "\n",
    "final_models = {}"
   ]
  },
  {
   "cell_type": "code",
   "execution_count": 8,
   "id": "149f55ce-9512-4f7a-a7f0-596f37c52c98",
   "metadata": {},
   "outputs": [],
   "source": [
    "def describe_model(model):\n",
    "\n",
    "\n",
    "    print(f\"Describe models architecture\")\n",
    "    for i, layer in enumerate(model.layers):\n",
    "        number_of_units = layer.units if hasattr(layer, 'units') else 0\n",
    "\n",
    "        if hasattr(layer, \"activation\"):\n",
    "            print(f\"Layer-{i + 1}: {number_of_units} units, func: \", layer.activation)\n",
    "        else:\n",
    "            print(f\"Layer-{i + 1}: {number_of_units} units, func: None\")"
   ]
  },
  {
   "cell_type": "code",
   "execution_count": 9,
   "id": "7d2036ea-f287-4843-855d-99a35bd79df2",
   "metadata": {},
   "outputs": [],
   "source": [
    "def desc_model(tuner):\n",
    "\n",
    "    best_hps = tuner.get_best_hyperparameters(num_trials=1)[0]\n",
    "    best_model = tuner.hypermodel.build(best_hps)\n",
    "\n",
    "    describe_model(best_model)\n",
    "\n",
    "    print(\"\\nOther params:\")\n",
    "    ignore_params = [\"tuner\", \"activation\", \"layer\"]\n",
    "    for param, value in best_hps.values.items():\n",
    "        if not any(word in param for word in ignore_params):\n",
    "            print(f\"{param}: {value}\")\n",
    "\n",
    "    return best_model"
   ]
  },
  {
   "cell_type": "code",
   "execution_count": 10,
   "id": "67f6187b-0144-4cdd-9844-dfe07da0afe2",
   "metadata": {},
   "outputs": [],
   "source": [
    "def model_7lD_builder(hp):\n",
    "    model = Sequential()\n",
    "    model.add(Dense(68, input_dim = 68, activation = \"relu\"))\n",
    "\n",
    "    hp_activation = hp.Choice('activation', values=['relu', 'tanh'])\n",
    "    hp_layer_1 = hp.Int('layer_1', min_value=32, max_value=512, step=32)\n",
    "    hp_layer_2 = hp.Int('layer_2', min_value=32, max_value=512, step=32)\n",
    "    hp_layer_3 = hp.Int('layer_3', min_value=32, max_value=512, step=32)\n",
    "    hp_dropout_1 = hp.Float('dropout_1', min_value=0.1, max_value=0.5, step=0.1)\n",
    "    hp_dropout_2 = hp.Float('dropout_2', min_value=0.1, max_value=0.5, step=0.1)\n",
    "    hp_learning_rate = hp.Choice('learning_rate', values=[1e-2, 1e-3, 1e-4])\n",
    "\n",
    "    model.add(Dense(units=hp_layer_1, activation=hp_activation))\n",
    "    model.add(Dropout(rate=hp_dropout_1))\n",
    "    model.add(Dense(units=hp_layer_2, activation=hp_activation))\n",
    "    model.add(Dropout(rate=hp_dropout_2))\n",
    "    model.add(Dense(units=hp_layer_3, activation=hp_activation))\n",
    "    model.add(Dense(3, activation = \"softmax\"))\n",
    "\n",
    "    model.compile(optimizer=Adam(learning_rate=hp_learning_rate), loss=\"categorical_crossentropy\", metrics = [\"accuracy\"])\n",
    "    \n",
    "    return model"
   ]
  },
  {
   "cell_type": "code",
   "execution_count": 11,
   "id": "2dc90b65-08cb-4c35-8cfc-db22a3f97647",
   "metadata": {},
   "outputs": [
    {
     "name": "stdout",
     "output_type": "stream",
     "text": [
      "Trial 30 Complete [00h 01m 25s]\n",
      "accuracy: 0.998904287815094\n",
      "\n",
      "Best accuracy So Far: 0.9993425607681274\n",
      "Total elapsed time: 00h 15m 08s\n"
     ]
    }
   ],
   "source": [
    "tuner_7lD = kt.Hyperband(\n",
    "    model_7lD_builder,\n",
    "    objective='accuracy',\n",
    "    max_epochs=10,\n",
    "    directory='keras_tuner_dir',\n",
    "    project_name='keras_tuner_demo_4'\n",
    ")\n",
    "tuner_7lD.search(x_train, y_train, epochs=10, callbacks=[stop_early])"
   ]
  },
  {
   "cell_type": "code",
   "execution_count": 13,
   "id": "50b2eedf-165c-43ec-93e3-cd8f122a2f49",
   "metadata": {},
   "outputs": [
    {
     "name": "stdout",
     "output_type": "stream",
     "text": [
      "Describe models architecture\n",
      "Layer-1: 68 units, func:  <function relu at 0x122141f70>\n",
      "Layer-2: 352 units, func:  <function tanh at 0x3261d9ca0>\n",
      "Layer-3: 0 units, func: None\n",
      "Layer-4: 416 units, func:  <function tanh at 0x3261d9ca0>\n",
      "Layer-5: 0 units, func: None\n",
      "Layer-6: 64 units, func:  <function tanh at 0x3261d9ca0>\n",
      "Layer-7: 3 units, func:  <function softmax at 0x3261d98b0>\n",
      "\n",
      "Other params:\n",
      "dropout_1: 0.30000000000000004\n",
      "dropout_2: 0.2\n",
      "learning_rate: 0.0001\n",
      "Epoch 1/100\n",
      "\u001b[1m2282/2282\u001b[0m \u001b[32m━━━━━━━━━━━━━━━━━━━━\u001b[0m\u001b[37m\u001b[0m \u001b[1m34s\u001b[0m 14ms/step - accuracy: 0.8984 - loss: 0.2750 - val_accuracy: 0.9981 - val_loss: 0.0100\n",
      "Epoch 2/100\n",
      "\u001b[1m2282/2282\u001b[0m \u001b[32m━━━━━━━━━━━━━━━━━━━━\u001b[0m\u001b[37m\u001b[0m \u001b[1m31s\u001b[0m 14ms/step - accuracy: 0.9977 - loss: 0.0114 - val_accuracy: 0.9986 - val_loss: 0.0054\n",
      "Epoch 3/100\n",
      "\u001b[1m2282/2282\u001b[0m \u001b[32m━━━━━━━━━━━━━━━━━━━━\u001b[0m\u001b[37m\u001b[0m \u001b[1m31s\u001b[0m 14ms/step - accuracy: 0.9980 - loss: 0.0081 - val_accuracy: 0.9991 - val_loss: 0.0041\n",
      "Epoch 4/100\n",
      "\u001b[1m2282/2282\u001b[0m \u001b[32m━━━━━━━━━━━━━━━━━━━━\u001b[0m\u001b[37m\u001b[0m \u001b[1m31s\u001b[0m 14ms/step - accuracy: 0.9983 - loss: 0.0067 - val_accuracy: 0.9991 - val_loss: 0.0033\n",
      "Epoch 5/100\n",
      "\u001b[1m2282/2282\u001b[0m \u001b[32m━━━━━━━━━━━━━━━━━━━━\u001b[0m\u001b[37m\u001b[0m \u001b[1m32s\u001b[0m 14ms/step - accuracy: 0.9981 - loss: 0.0070 - val_accuracy: 0.9993 - val_loss: 0.0023\n",
      "Epoch 6/100\n",
      "\u001b[1m2282/2282\u001b[0m \u001b[32m━━━━━━━━━━━━━━━━━━━━\u001b[0m\u001b[37m\u001b[0m \u001b[1m32s\u001b[0m 14ms/step - accuracy: 0.9989 - loss: 0.0056 - val_accuracy: 0.9995 - val_loss: 0.0025\n",
      "Epoch 7/100\n",
      "\u001b[1m2282/2282\u001b[0m \u001b[32m━━━━━━━━━━━━━━━━━━━━\u001b[0m\u001b[37m\u001b[0m \u001b[1m32s\u001b[0m 14ms/step - accuracy: 0.9985 - loss: 0.0053 - val_accuracy: 0.9996 - val_loss: 0.0020\n",
      "Epoch 8/100\n",
      "\u001b[1m2282/2282\u001b[0m \u001b[32m━━━━━━━━━━━━━━━━━━━━\u001b[0m\u001b[37m\u001b[0m \u001b[1m31s\u001b[0m 14ms/step - accuracy: 0.9983 - loss: 0.0057 - val_accuracy: 0.9995 - val_loss: 0.0025\n",
      "Epoch 9/100\n",
      "\u001b[1m2282/2282\u001b[0m \u001b[32m━━━━━━━━━━━━━━━━━━━━\u001b[0m\u001b[37m\u001b[0m \u001b[1m31s\u001b[0m 14ms/step - accuracy: 0.9988 - loss: 0.0055 - val_accuracy: 0.9993 - val_loss: 0.0021\n",
      "Epoch 10/100\n",
      "\u001b[1m2282/2282\u001b[0m \u001b[32m━━━━━━━━━━━━━━━━━━━━\u001b[0m\u001b[37m\u001b[0m \u001b[1m32s\u001b[0m 14ms/step - accuracy: 0.9987 - loss: 0.0047 - val_accuracy: 0.9995 - val_loss: 0.0013\n",
      "Epoch 11/100\n",
      "\u001b[1m2282/2282\u001b[0m \u001b[32m━━━━━━━━━━━━━━━━━━━━\u001b[0m\u001b[37m\u001b[0m \u001b[1m32s\u001b[0m 14ms/step - accuracy: 0.9990 - loss: 0.0038 - val_accuracy: 0.9995 - val_loss: 0.0013\n",
      "Epoch 12/100\n",
      "\u001b[1m2282/2282\u001b[0m \u001b[32m━━━━━━━━━━━━━━━━━━━━\u001b[0m\u001b[37m\u001b[0m \u001b[1m34s\u001b[0m 15ms/step - accuracy: 0.9990 - loss: 0.0036 - val_accuracy: 0.9996 - val_loss: 0.0013\n",
      "Epoch 13/100\n",
      "\u001b[1m2282/2282\u001b[0m \u001b[32m━━━━━━━━━━━━━━━━━━━━\u001b[0m\u001b[37m\u001b[0m \u001b[1m32s\u001b[0m 14ms/step - accuracy: 0.9994 - loss: 0.0024 - val_accuracy: 0.9995 - val_loss: 0.0011\n",
      "Epoch 14/100\n",
      "\u001b[1m2282/2282\u001b[0m \u001b[32m━━━━━━━━━━━━━━━━━━━━\u001b[0m\u001b[37m\u001b[0m \u001b[1m32s\u001b[0m 14ms/step - accuracy: 0.9995 - loss: 0.0021 - val_accuracy: 0.9996 - val_loss: 0.0012\n",
      "Epoch 15/100\n",
      "\u001b[1m2282/2282\u001b[0m \u001b[32m━━━━━━━━━━━━━━━━━━━━\u001b[0m\u001b[37m\u001b[0m \u001b[1m32s\u001b[0m 14ms/step - accuracy: 0.9998 - loss: 0.0014 - val_accuracy: 0.9998 - val_loss: 6.8903e-04\n",
      "Epoch 16/100\n",
      "\u001b[1m2282/2282\u001b[0m \u001b[32m━━━━━━━━━━━━━━━━━━━━\u001b[0m\u001b[37m\u001b[0m \u001b[1m31s\u001b[0m 14ms/step - accuracy: 0.9993 - loss: 0.0036 - val_accuracy: 0.9998 - val_loss: 5.4693e-04\n",
      "Epoch 17/100\n",
      "\u001b[1m2282/2282\u001b[0m \u001b[32m━━━━━━━━━━━━━━━━━━━━\u001b[0m\u001b[37m\u001b[0m \u001b[1m32s\u001b[0m 14ms/step - accuracy: 0.9994 - loss: 0.0025 - val_accuracy: 0.9996 - val_loss: 6.9809e-04\n",
      "Epoch 18/100\n",
      "\u001b[1m2282/2282\u001b[0m \u001b[32m━━━━━━━━━━━━━━━━━━━━\u001b[0m\u001b[37m\u001b[0m \u001b[1m31s\u001b[0m 14ms/step - accuracy: 0.9997 - loss: 0.0013 - val_accuracy: 0.9986 - val_loss: 0.0032\n",
      "Epoch 19/100\n",
      "\u001b[1m2282/2282\u001b[0m \u001b[32m━━━━━━━━━━━━━━━━━━━━\u001b[0m\u001b[37m\u001b[0m \u001b[1m31s\u001b[0m 14ms/step - accuracy: 0.9993 - loss: 0.0033 - val_accuracy: 0.9998 - val_loss: 0.0011\n",
      "Epoch 20/100\n",
      "\u001b[1m2282/2282\u001b[0m \u001b[32m━━━━━━━━━━━━━━━━━━━━\u001b[0m\u001b[37m\u001b[0m \u001b[1m32s\u001b[0m 14ms/step - accuracy: 0.9997 - loss: 0.0015 - val_accuracy: 0.9998 - val_loss: 0.0011\n",
      "Epoch 21/100\n",
      "\u001b[1m2282/2282\u001b[0m \u001b[32m━━━━━━━━━━━━━━━━━━━━\u001b[0m\u001b[37m\u001b[0m \u001b[1m32s\u001b[0m 14ms/step - accuracy: 0.9997 - loss: 0.0016 - val_accuracy: 0.9998 - val_loss: 0.0011\n",
      "Epoch 22/100\n",
      "\u001b[1m2282/2282\u001b[0m \u001b[32m━━━━━━━━━━━━━━━━━━━━\u001b[0m\u001b[37m\u001b[0m \u001b[1m33s\u001b[0m 14ms/step - accuracy: 0.9996 - loss: 0.0021 - val_accuracy: 0.9996 - val_loss: 0.0011\n",
      "Epoch 23/100\n",
      "\u001b[1m2282/2282\u001b[0m \u001b[32m━━━━━━━━━━━━━━━━━━━━\u001b[0m\u001b[37m\u001b[0m \u001b[1m33s\u001b[0m 14ms/step - accuracy: 0.9996 - loss: 0.0021 - val_accuracy: 0.9996 - val_loss: 0.0018\n",
      "Epoch 24/100\n",
      "\u001b[1m2282/2282\u001b[0m \u001b[32m━━━━━━━━━━━━━━━━━━━━\u001b[0m\u001b[37m\u001b[0m \u001b[1m34s\u001b[0m 15ms/step - accuracy: 0.9995 - loss: 0.0023 - val_accuracy: 0.9996 - val_loss: 0.0018\n"
     ]
    },
    {
     "data": {
      "text/plain": [
       "<keras.src.callbacks.history.History at 0x171954c10>"
      ]
     },
     "execution_count": 13,
     "metadata": {},
     "output_type": "execute_result"
    }
   ],
   "source": [
    "model_7lD = desc_model(tuner_7lD)\n",
    "model_7lD.fit(x_train, y_train, epochs=100, batch_size=10, validation_data=(x_test, y_test), callbacks=[stop_early])"
   ]
  },
  {
   "cell_type": "code",
   "execution_count": 15,
   "id": "a2c99db5-30ae-4e0f-a269-f52bc6d436b7",
   "metadata": {},
   "outputs": [
    {
     "name": "stdout",
     "output_type": "stream",
     "text": [
      "Model Results:\n",
      "Precision: [0.999, 1.0, 0.999]\n",
      "Recall: [0.999, 1.0, 0.999]\n",
      "F1-Score: [0.999, 1.0, 0.999]\n",
      "Confusion Matrix:\n",
      "[[1914    0    1]\n",
      " [   0 1844    0]\n",
      " [   1    0 1944]]\n"
     ]
    }
   ],
   "source": [
    "import numpy as np\n",
    "from sklearn.metrics import confusion_matrix, precision_recall_fscore_support\n",
    "\n",
    "predict_x = model_7lD.predict(x_test, verbose=False)\n",
    "\n",
    "y_pred_class = np.argmax(predict_x, axis=1)\n",
    "\n",
    "y_test_class = np.argmax(y_test, axis=1)\n",
    "\n",
    "cm = confusion_matrix(y_test_class, y_pred_class, labels=[0, 1, 2])\n",
    "\n",
    "p_score, r_score, f_score, _ = precision_recall_fscore_support(y_test_class, y_pred_class, labels=[0, 1, 2])\n",
    "\n",
    "def round_up_metric_results(scores, decimals=3):\n",
    "    return [round(score, decimals) for score in scores]\n",
    "\n",
    "results = {\n",
    "    \"precision\": round_up_metric_results(p_score),\n",
    "    \"recall\": round_up_metric_results(r_score),\n",
    "    \"f1_score\": round_up_metric_results(f_score),\n",
    "    \"confusion_matrix\": cm\n",
    "}\n",
    "\n",
    "print(\"Model Results:\")\n",
    "print(f\"Precision: {results['precision']}\")\n",
    "print(f\"Recall: {results['recall']}\")\n",
    "print(f\"F1-Score: {results['f1_score']}\")\n",
    "print(\"Confusion Matrix:\")\n",
    "print(results['confusion_matrix'])"
   ]
  },
  {
   "cell_type": "code",
   "execution_count": 18,
   "id": "7f07e0a0-c96d-4c63-bd22-a0ee430d0cb8",
   "metadata": {},
   "outputs": [
    {
     "ename": "NameError",
     "evalue": "name 'test_x' is not defined",
     "output_type": "error",
     "traceback": [
      "\u001b[0;31m---------------------------------------------------------------------------\u001b[0m",
      "\u001b[0;31mNameError\u001b[0m                                 Traceback (most recent call last)",
      "Cell \u001b[0;32mIn[18], line 1\u001b[0m\n\u001b[0;32m----> 1\u001b[0m predict_x \u001b[38;5;241m=\u001b[39m model_7lD\u001b[38;5;241m.\u001b[39mpredict(\u001b[43mtest_x\u001b[49m, verbose\u001b[38;5;241m=\u001b[39m\u001b[38;5;28;01mFalse\u001b[39;00m) \n\u001b[1;32m      2\u001b[0m y_pred_class \u001b[38;5;241m=\u001b[39m np\u001b[38;5;241m.\u001b[39margmax(predict_x, axis\u001b[38;5;241m=\u001b[39m\u001b[38;5;241m1\u001b[39m)\n\u001b[1;32m      3\u001b[0m y_test_class \u001b[38;5;241m=\u001b[39m np\u001b[38;5;241m.\u001b[39margmax(test_y_cat, axis\u001b[38;5;241m=\u001b[39m\u001b[38;5;241m1\u001b[39m)\n",
      "\u001b[0;31mNameError\u001b[0m: name 'test_x' is not defined"
     ]
    }
   ],
   "source": [
    "predict_x = model_7lD.predict(test_x, verbose=False) \n",
    "y_pred_class = np.argmax(predict_x, axis=1)\n",
    "y_test_class = np.argmax(test_y_cat, axis=1)\n",
    "\n",
    "cm = confusion_matrix(y_test_class, y_pred_class, labels=[0, 1, 2])\n",
    "(p_score, r_score, f_score, _) = precision_recall_fscore_support(y_test_class, y_pred_class, labels=[0, 1, 2])"
   ]
  },
  {
   "cell_type": "code",
   "execution_count": null,
   "id": "f5ccbc2f-932e-425f-8f9e-32194b65dcba",
   "metadata": {},
   "outputs": [],
   "source": []
  },
  {
   "cell_type": "code",
   "execution_count": null,
   "id": "d6aca684-4646-4ee9-901a-4b9e1e6f6b2c",
   "metadata": {},
   "outputs": [],
   "source": []
  },
  {
   "cell_type": "code",
   "execution_count": null,
   "id": "0bc13a69-aab6-4e31-bd16-a9e6f6cb77f8",
   "metadata": {},
   "outputs": [],
   "source": []
  },
  {
   "cell_type": "code",
   "execution_count": null,
   "id": "7172702b-26ec-4081-ac3a-ec63755fc840",
   "metadata": {},
   "outputs": [],
   "source": []
  },
  {
   "cell_type": "code",
   "execution_count": 19,
   "id": "2d8d6aa8-567a-4e3e-9f63-cf2804e613a8",
   "metadata": {},
   "outputs": [
    {
     "name": "stdout",
     "output_type": "stream",
     "text": [
      "Number of rows: 710 \n",
      "Number of columns: 69\n",
      "\n",
      "Labels: \n",
      "label\n",
      "1    241\n",
      "2    235\n",
      "0    234\n",
      "Name: count, dtype: int64\n",
      "\n"
     ]
    }
   ],
   "source": [
    "# load dataset\n",
    "test_df = pd.read_csv(\"test.csv\")\n",
    "\n",
    "# Categorizing label\n",
    "test_df.loc[test_df[\"label\"] == \"C\", \"label\"] = 0\n",
    "test_df.loc[test_df[\"label\"] == \"H\", \"label\"] = 1\n",
    "test_df.loc[test_df[\"label\"] == \"L\", \"label\"] = 2\n",
    "\n",
    "print(f'Number of rows: {test_df.shape[0]} \\nNumber of columns: {test_df.shape[1]}\\n')\n",
    "print(f\"Labels: \\n{test_df['label'].value_counts()}\\n\")"
   ]
  },
  {
   "cell_type": "code",
   "execution_count": 20,
   "id": "63a6c673-754b-48ad-b165-5978b3729a90",
   "metadata": {},
   "outputs": [],
   "source": [
    "test_x = test_df.drop(\"label\", axis = 1)\n",
    "test_x = pd.DataFrame(sc.transform(test_x))\n",
    "\n",
    "test_y = test_df[\"label\"]\n",
    "\n",
    "# # Converting prediction to categorical\n",
    "test_y_cat = to_categorical(test_y)"
   ]
  },
  {
   "cell_type": "code",
   "execution_count": 21,
   "id": "de0d0ec1-28e5-4bb4-843c-078bd4735df6",
   "metadata": {},
   "outputs": [],
   "source": [
    "predict_x = model_7lD.predict(test_x, verbose=False) \n",
    "y_pred_class = np.argmax(predict_x, axis=1)\n",
    "y_test_class = np.argmax(test_y_cat, axis=1)\n",
    "\n",
    "cm = confusion_matrix(y_test_class, y_pred_class, labels=[0, 1, 2])\n",
    "(p_score, r_score, f_score, _) = precision_recall_fscore_support(y_test_class, y_pred_class, labels=[0, 1, 2])"
   ]
  },
  {
   "cell_type": "code",
   "execution_count": 23,
   "id": "a6b9f3de-db34-48e1-a0d2-8311ce6bb3cc",
   "metadata": {},
   "outputs": [
    {
     "name": "stdout",
     "output_type": "stream",
     "text": [
      "([0.962, 0.851, 0.851], [0.654, 0.996, 0.974], [0.779, 0.918, 0.909], array([[153,  42,  39],\n",
      "       [  0, 240,   1],\n",
      "       [  6,   0, 229]]))\n"
     ]
    }
   ],
   "source": [
    "print((round_up_metric_results(p_score), round_up_metric_results(r_score), round_up_metric_results(f_score), cm ))"
   ]
  },
  {
   "cell_type": "code",
   "execution_count": 25,
   "id": "87fe160b-1325-4aa4-901b-65698b95bcda",
   "metadata": {},
   "outputs": [],
   "source": [
    "with open(\"plank_likdp.pkl\", \"wb\") as f:\n",
    "    pickle.dump(model_7lD, f)"
   ]
  },
  {
   "cell_type": "code",
   "execution_count": null,
   "id": "6f952c59-9e8e-4792-90ad-c2b2a524fc21",
   "metadata": {},
   "outputs": [],
   "source": []
  }
 ],
 "metadata": {
  "kernelspec": {
   "display_name": "Python 3 (ipykernel)",
   "language": "python",
   "name": "python3"
  },
  "language_info": {
   "codemirror_mode": {
    "name": "ipython",
    "version": 3
   },
   "file_extension": ".py",
   "mimetype": "text/x-python",
   "name": "python",
   "nbconvert_exporter": "python",
   "pygments_lexer": "ipython3",
   "version": "3.9.19"
  }
 },
 "nbformat": 4,
 "nbformat_minor": 5
}
